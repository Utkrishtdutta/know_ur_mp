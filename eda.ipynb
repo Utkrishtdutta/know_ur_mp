{
 "cells": [
  {
   "cell_type": "code",
   "execution_count": 20,
   "metadata": {},
   "outputs": [
    {
     "data": {
      "text/html": [
       "<div>\n",
       "<style scoped>\n",
       "    .dataframe tbody tr th:only-of-type {\n",
       "        vertical-align: middle;\n",
       "    }\n",
       "\n",
       "    .dataframe tbody tr th {\n",
       "        vertical-align: top;\n",
       "    }\n",
       "\n",
       "    .dataframe thead th {\n",
       "        text-align: right;\n",
       "    }\n",
       "</style>\n",
       "<table border=\"1\" class=\"dataframe\">\n",
       "  <thead>\n",
       "    <tr style=\"text-align: right;\">\n",
       "      <th></th>\n",
       "      <th>Constituency</th>\n",
       "      <th>Const. No.</th>\n",
       "      <th>Leading Candidate</th>\n",
       "      <th>Leading Party</th>\n",
       "      <th>Trailing Candidate</th>\n",
       "      <th>Trailing Party</th>\n",
       "      <th>Margin</th>\n",
       "      <th>Status</th>\n",
       "    </tr>\n",
       "  </thead>\n",
       "  <tbody>\n",
       "    <tr>\n",
       "      <th>0</th>\n",
       "      <td>AJMER</td>\n",
       "      <td>13</td>\n",
       "      <td>BHAGIRATH CHOUDHARY</td>\n",
       "      <td>Bharatiya Janata Party</td>\n",
       "      <td>RAMCHANDRA CHOUDHARY</td>\n",
       "      <td>Indian National Congress</td>\n",
       "      <td>329991</td>\n",
       "      <td>Result Declared</td>\n",
       "    </tr>\n",
       "    <tr>\n",
       "      <th>1</th>\n",
       "      <td>ALWAR</td>\n",
       "      <td>8</td>\n",
       "      <td>BHUPENDER YADAV</td>\n",
       "      <td>Bharatiya Janata Party</td>\n",
       "      <td>LALIT YADAV</td>\n",
       "      <td>Indian National Congress</td>\n",
       "      <td>48282</td>\n",
       "      <td>Result Declared</td>\n",
       "    </tr>\n",
       "    <tr>\n",
       "      <th>2</th>\n",
       "      <td>AMBALA</td>\n",
       "      <td>1</td>\n",
       "      <td>VARUN CHAUDHRY</td>\n",
       "      <td>Indian National Congress</td>\n",
       "      <td>BANTO KATARIA</td>\n",
       "      <td>Bharatiya Janata Party</td>\n",
       "      <td>49036</td>\n",
       "      <td>Result Declared</td>\n",
       "    </tr>\n",
       "    <tr>\n",
       "      <th>3</th>\n",
       "      <td>ANANTNAG-RAJOURI</td>\n",
       "      <td>3</td>\n",
       "      <td>MIAN ALTAF AHMAD</td>\n",
       "      <td>Jammu &amp; Kashmir National Conference</td>\n",
       "      <td>MEHBOOBA MUFTI</td>\n",
       "      <td>Jammu &amp; Kashmir Peoples Democratic Party</td>\n",
       "      <td>281794</td>\n",
       "      <td>Result Declared</td>\n",
       "    </tr>\n",
       "    <tr>\n",
       "      <th>4</th>\n",
       "      <td>ARAKKONAM</td>\n",
       "      <td>7</td>\n",
       "      <td>S JAGATHRATCHAKAN</td>\n",
       "      <td>Dravida Munnetra Kazhagam</td>\n",
       "      <td>L VIJAYAN</td>\n",
       "      <td>All India Anna Dravida Munnetra Kazhagam</td>\n",
       "      <td>306559</td>\n",
       "      <td>Result Declared</td>\n",
       "    </tr>\n",
       "  </tbody>\n",
       "</table>\n",
       "</div>"
      ],
      "text/plain": [
       "       Constituency  Const. No.    Leading Candidate  \\\n",
       "0             AJMER          13  BHAGIRATH CHOUDHARY   \n",
       "1             ALWAR           8      BHUPENDER YADAV   \n",
       "2            AMBALA           1       VARUN CHAUDHRY   \n",
       "3  ANANTNAG-RAJOURI           3     MIAN ALTAF AHMAD   \n",
       "4         ARAKKONAM           7    S JAGATHRATCHAKAN   \n",
       "\n",
       "                         Leading Party    Trailing Candidate  \\\n",
       "0               Bharatiya Janata Party  RAMCHANDRA CHOUDHARY   \n",
       "1               Bharatiya Janata Party           LALIT YADAV   \n",
       "2             Indian National Congress         BANTO KATARIA   \n",
       "3  Jammu & Kashmir National Conference        MEHBOOBA MUFTI   \n",
       "4            Dravida Munnetra Kazhagam             L VIJAYAN   \n",
       "\n",
       "                             Trailing Party  Margin           Status  \n",
       "0                  Indian National Congress  329991  Result Declared  \n",
       "1                  Indian National Congress   48282  Result Declared  \n",
       "2                    Bharatiya Janata Party   49036  Result Declared  \n",
       "3  Jammu & Kashmir Peoples Democratic Party  281794  Result Declared  \n",
       "4  All India Anna Dravida Munnetra Kazhagam  306559  Result Declared  "
      ]
     },
     "execution_count": 20,
     "metadata": {},
     "output_type": "execute_result"
    }
   ],
   "source": [
    "import pandas as pd\n",
    "import plotly.express as px\n",
    "import plotly.offline as py\n",
    "res_df = pd.read_csv('election_results_2024.csv')\n",
    "res_df['Constituency'] = res_df['Constituency'].apply(lambda x : x.upper())\n",
    "res_df.to_csv('election_results_2024.csv', index=False)\n",
    "res_df.head()"
   ]
  },
  {
   "cell_type": "code",
   "execution_count": 3,
   "metadata": {},
   "outputs": [
    {
     "name": "stdout",
     "output_type": "stream",
     "text": [
      "<class 'pandas.core.frame.DataFrame'>\n",
      "RangeIndex: 543 entries, 0 to 542\n",
      "Data columns (total 8 columns):\n",
      " #   Column              Non-Null Count  Dtype \n",
      "---  ------              --------------  ----- \n",
      " 0   Constituency        543 non-null    object\n",
      " 1   Const. No.          543 non-null    int64 \n",
      " 2   Leading Candidate   543 non-null    object\n",
      " 3   Leading Party       543 non-null    object\n",
      " 4   Trailing Candidate  542 non-null    object\n",
      " 5   Trailing Party      542 non-null    object\n",
      " 6   Margin              543 non-null    object\n",
      " 7   Status              543 non-null    object\n",
      "dtypes: int64(1), object(7)\n",
      "memory usage: 34.1+ KB\n"
     ]
    }
   ],
   "source": [
    "res_df.info()"
   ]
  },
  {
   "cell_type": "code",
   "execution_count": 4,
   "metadata": {},
   "outputs": [
    {
     "data": {
      "text/plain": [
       "Constituency          0\n",
       "Const. No.            0\n",
       "Leading Candidate     0\n",
       "Leading Party         0\n",
       "Trailing Candidate    1\n",
       "Trailing Party        1\n",
       "Margin                0\n",
       "Status                0\n",
       "dtype: int64"
      ]
     },
     "execution_count": 4,
     "metadata": {},
     "output_type": "execute_result"
    }
   ],
   "source": [
    "res_df.isna().sum()"
   ]
  },
  {
   "cell_type": "code",
   "execution_count": 5,
   "metadata": {},
   "outputs": [
    {
     "data": {
      "text/plain": [
       "0"
      ]
     },
     "execution_count": 5,
     "metadata": {},
     "output_type": "execute_result"
    }
   ],
   "source": [
    "res_df.duplicated().sum()"
   ]
  },
  {
   "cell_type": "code",
   "execution_count": 6,
   "metadata": {},
   "outputs": [
    {
     "data": {
      "application/vnd.plotly.v1+json": {
       "config": {
        "plotlyServerURL": "https://plot.ly"
       },
       "data": [
        {
         "domain": {
          "x": [
           0,
           1
          ],
          "y": [
           0,
           1
          ]
         },
         "hovertemplate": "Leading Party=%{label}<br>value=%{value}<extra></extra>",
         "labels": [
          "Bharatiya Janata Party",
          "Indian National Congress",
          "Samajwadi Party",
          "All India Trinamool Congress",
          "Dravida Munnetra Kazhagam",
          "Telugu Desam",
          "Janata Dal (United)",
          "Shiv Sena (Uddhav Balasaheb Thackrey)",
          "Nationalist Congress Party – Sharadchandra Pawar",
          "Shiv Sena",
          "Independent",
          "Lok Janshakti Party(Ram Vilas)",
          "Communist Party of India (Marxist)",
          "Yuvajana Sramika Rythu Congress Party",
          "Rashtriya Janata Dal",
          "Indian Union Muslim League",
          "Jharkhand Mukti Morcha",
          "Aam Aadmi Party",
          "Rashtriya Lok Dal",
          "Communist Party of India (Marxist-Leninist) (Liberation)"
         ],
         "legendgroup": "",
         "name": "",
         "showlegend": true,
         "type": "pie",
         "values": [
          240,
          99,
          37,
          29,
          22,
          16,
          12,
          9,
          8,
          7,
          7,
          5,
          4,
          4,
          4,
          3,
          3,
          3,
          2,
          2
         ]
        }
       ],
       "layout": {
        "legend": {
         "tracegroupgap": 0
        },
        "template": {
         "data": {
          "bar": [
           {
            "error_x": {
             "color": "#2a3f5f"
            },
            "error_y": {
             "color": "#2a3f5f"
            },
            "marker": {
             "line": {
              "color": "#E5ECF6",
              "width": 0.5
             },
             "pattern": {
              "fillmode": "overlay",
              "size": 10,
              "solidity": 0.2
             }
            },
            "type": "bar"
           }
          ],
          "barpolar": [
           {
            "marker": {
             "line": {
              "color": "#E5ECF6",
              "width": 0.5
             },
             "pattern": {
              "fillmode": "overlay",
              "size": 10,
              "solidity": 0.2
             }
            },
            "type": "barpolar"
           }
          ],
          "carpet": [
           {
            "aaxis": {
             "endlinecolor": "#2a3f5f",
             "gridcolor": "white",
             "linecolor": "white",
             "minorgridcolor": "white",
             "startlinecolor": "#2a3f5f"
            },
            "baxis": {
             "endlinecolor": "#2a3f5f",
             "gridcolor": "white",
             "linecolor": "white",
             "minorgridcolor": "white",
             "startlinecolor": "#2a3f5f"
            },
            "type": "carpet"
           }
          ],
          "choropleth": [
           {
            "colorbar": {
             "outlinewidth": 0,
             "ticks": ""
            },
            "type": "choropleth"
           }
          ],
          "contour": [
           {
            "colorbar": {
             "outlinewidth": 0,
             "ticks": ""
            },
            "colorscale": [
             [
              0,
              "#0d0887"
             ],
             [
              0.1111111111111111,
              "#46039f"
             ],
             [
              0.2222222222222222,
              "#7201a8"
             ],
             [
              0.3333333333333333,
              "#9c179e"
             ],
             [
              0.4444444444444444,
              "#bd3786"
             ],
             [
              0.5555555555555556,
              "#d8576b"
             ],
             [
              0.6666666666666666,
              "#ed7953"
             ],
             [
              0.7777777777777778,
              "#fb9f3a"
             ],
             [
              0.8888888888888888,
              "#fdca26"
             ],
             [
              1,
              "#f0f921"
             ]
            ],
            "type": "contour"
           }
          ],
          "contourcarpet": [
           {
            "colorbar": {
             "outlinewidth": 0,
             "ticks": ""
            },
            "type": "contourcarpet"
           }
          ],
          "heatmap": [
           {
            "colorbar": {
             "outlinewidth": 0,
             "ticks": ""
            },
            "colorscale": [
             [
              0,
              "#0d0887"
             ],
             [
              0.1111111111111111,
              "#46039f"
             ],
             [
              0.2222222222222222,
              "#7201a8"
             ],
             [
              0.3333333333333333,
              "#9c179e"
             ],
             [
              0.4444444444444444,
              "#bd3786"
             ],
             [
              0.5555555555555556,
              "#d8576b"
             ],
             [
              0.6666666666666666,
              "#ed7953"
             ],
             [
              0.7777777777777778,
              "#fb9f3a"
             ],
             [
              0.8888888888888888,
              "#fdca26"
             ],
             [
              1,
              "#f0f921"
             ]
            ],
            "type": "heatmap"
           }
          ],
          "heatmapgl": [
           {
            "colorbar": {
             "outlinewidth": 0,
             "ticks": ""
            },
            "colorscale": [
             [
              0,
              "#0d0887"
             ],
             [
              0.1111111111111111,
              "#46039f"
             ],
             [
              0.2222222222222222,
              "#7201a8"
             ],
             [
              0.3333333333333333,
              "#9c179e"
             ],
             [
              0.4444444444444444,
              "#bd3786"
             ],
             [
              0.5555555555555556,
              "#d8576b"
             ],
             [
              0.6666666666666666,
              "#ed7953"
             ],
             [
              0.7777777777777778,
              "#fb9f3a"
             ],
             [
              0.8888888888888888,
              "#fdca26"
             ],
             [
              1,
              "#f0f921"
             ]
            ],
            "type": "heatmapgl"
           }
          ],
          "histogram": [
           {
            "marker": {
             "pattern": {
              "fillmode": "overlay",
              "size": 10,
              "solidity": 0.2
             }
            },
            "type": "histogram"
           }
          ],
          "histogram2d": [
           {
            "colorbar": {
             "outlinewidth": 0,
             "ticks": ""
            },
            "colorscale": [
             [
              0,
              "#0d0887"
             ],
             [
              0.1111111111111111,
              "#46039f"
             ],
             [
              0.2222222222222222,
              "#7201a8"
             ],
             [
              0.3333333333333333,
              "#9c179e"
             ],
             [
              0.4444444444444444,
              "#bd3786"
             ],
             [
              0.5555555555555556,
              "#d8576b"
             ],
             [
              0.6666666666666666,
              "#ed7953"
             ],
             [
              0.7777777777777778,
              "#fb9f3a"
             ],
             [
              0.8888888888888888,
              "#fdca26"
             ],
             [
              1,
              "#f0f921"
             ]
            ],
            "type": "histogram2d"
           }
          ],
          "histogram2dcontour": [
           {
            "colorbar": {
             "outlinewidth": 0,
             "ticks": ""
            },
            "colorscale": [
             [
              0,
              "#0d0887"
             ],
             [
              0.1111111111111111,
              "#46039f"
             ],
             [
              0.2222222222222222,
              "#7201a8"
             ],
             [
              0.3333333333333333,
              "#9c179e"
             ],
             [
              0.4444444444444444,
              "#bd3786"
             ],
             [
              0.5555555555555556,
              "#d8576b"
             ],
             [
              0.6666666666666666,
              "#ed7953"
             ],
             [
              0.7777777777777778,
              "#fb9f3a"
             ],
             [
              0.8888888888888888,
              "#fdca26"
             ],
             [
              1,
              "#f0f921"
             ]
            ],
            "type": "histogram2dcontour"
           }
          ],
          "mesh3d": [
           {
            "colorbar": {
             "outlinewidth": 0,
             "ticks": ""
            },
            "type": "mesh3d"
           }
          ],
          "parcoords": [
           {
            "line": {
             "colorbar": {
              "outlinewidth": 0,
              "ticks": ""
             }
            },
            "type": "parcoords"
           }
          ],
          "pie": [
           {
            "automargin": true,
            "type": "pie"
           }
          ],
          "scatter": [
           {
            "fillpattern": {
             "fillmode": "overlay",
             "size": 10,
             "solidity": 0.2
            },
            "type": "scatter"
           }
          ],
          "scatter3d": [
           {
            "line": {
             "colorbar": {
              "outlinewidth": 0,
              "ticks": ""
             }
            },
            "marker": {
             "colorbar": {
              "outlinewidth": 0,
              "ticks": ""
             }
            },
            "type": "scatter3d"
           }
          ],
          "scattercarpet": [
           {
            "marker": {
             "colorbar": {
              "outlinewidth": 0,
              "ticks": ""
             }
            },
            "type": "scattercarpet"
           }
          ],
          "scattergeo": [
           {
            "marker": {
             "colorbar": {
              "outlinewidth": 0,
              "ticks": ""
             }
            },
            "type": "scattergeo"
           }
          ],
          "scattergl": [
           {
            "marker": {
             "colorbar": {
              "outlinewidth": 0,
              "ticks": ""
             }
            },
            "type": "scattergl"
           }
          ],
          "scattermapbox": [
           {
            "marker": {
             "colorbar": {
              "outlinewidth": 0,
              "ticks": ""
             }
            },
            "type": "scattermapbox"
           }
          ],
          "scatterpolar": [
           {
            "marker": {
             "colorbar": {
              "outlinewidth": 0,
              "ticks": ""
             }
            },
            "type": "scatterpolar"
           }
          ],
          "scatterpolargl": [
           {
            "marker": {
             "colorbar": {
              "outlinewidth": 0,
              "ticks": ""
             }
            },
            "type": "scatterpolargl"
           }
          ],
          "scatterternary": [
           {
            "marker": {
             "colorbar": {
              "outlinewidth": 0,
              "ticks": ""
             }
            },
            "type": "scatterternary"
           }
          ],
          "surface": [
           {
            "colorbar": {
             "outlinewidth": 0,
             "ticks": ""
            },
            "colorscale": [
             [
              0,
              "#0d0887"
             ],
             [
              0.1111111111111111,
              "#46039f"
             ],
             [
              0.2222222222222222,
              "#7201a8"
             ],
             [
              0.3333333333333333,
              "#9c179e"
             ],
             [
              0.4444444444444444,
              "#bd3786"
             ],
             [
              0.5555555555555556,
              "#d8576b"
             ],
             [
              0.6666666666666666,
              "#ed7953"
             ],
             [
              0.7777777777777778,
              "#fb9f3a"
             ],
             [
              0.8888888888888888,
              "#fdca26"
             ],
             [
              1,
              "#f0f921"
             ]
            ],
            "type": "surface"
           }
          ],
          "table": [
           {
            "cells": {
             "fill": {
              "color": "#EBF0F8"
             },
             "line": {
              "color": "white"
             }
            },
            "header": {
             "fill": {
              "color": "#C8D4E3"
             },
             "line": {
              "color": "white"
             }
            },
            "type": "table"
           }
          ]
         },
         "layout": {
          "annotationdefaults": {
           "arrowcolor": "#2a3f5f",
           "arrowhead": 0,
           "arrowwidth": 1
          },
          "autotypenumbers": "strict",
          "coloraxis": {
           "colorbar": {
            "outlinewidth": 0,
            "ticks": ""
           }
          },
          "colorscale": {
           "diverging": [
            [
             0,
             "#8e0152"
            ],
            [
             0.1,
             "#c51b7d"
            ],
            [
             0.2,
             "#de77ae"
            ],
            [
             0.3,
             "#f1b6da"
            ],
            [
             0.4,
             "#fde0ef"
            ],
            [
             0.5,
             "#f7f7f7"
            ],
            [
             0.6,
             "#e6f5d0"
            ],
            [
             0.7,
             "#b8e186"
            ],
            [
             0.8,
             "#7fbc41"
            ],
            [
             0.9,
             "#4d9221"
            ],
            [
             1,
             "#276419"
            ]
           ],
           "sequential": [
            [
             0,
             "#0d0887"
            ],
            [
             0.1111111111111111,
             "#46039f"
            ],
            [
             0.2222222222222222,
             "#7201a8"
            ],
            [
             0.3333333333333333,
             "#9c179e"
            ],
            [
             0.4444444444444444,
             "#bd3786"
            ],
            [
             0.5555555555555556,
             "#d8576b"
            ],
            [
             0.6666666666666666,
             "#ed7953"
            ],
            [
             0.7777777777777778,
             "#fb9f3a"
            ],
            [
             0.8888888888888888,
             "#fdca26"
            ],
            [
             1,
             "#f0f921"
            ]
           ],
           "sequentialminus": [
            [
             0,
             "#0d0887"
            ],
            [
             0.1111111111111111,
             "#46039f"
            ],
            [
             0.2222222222222222,
             "#7201a8"
            ],
            [
             0.3333333333333333,
             "#9c179e"
            ],
            [
             0.4444444444444444,
             "#bd3786"
            ],
            [
             0.5555555555555556,
             "#d8576b"
            ],
            [
             0.6666666666666666,
             "#ed7953"
            ],
            [
             0.7777777777777778,
             "#fb9f3a"
            ],
            [
             0.8888888888888888,
             "#fdca26"
            ],
            [
             1,
             "#f0f921"
            ]
           ]
          },
          "colorway": [
           "#636efa",
           "#EF553B",
           "#00cc96",
           "#ab63fa",
           "#FFA15A",
           "#19d3f3",
           "#FF6692",
           "#B6E880",
           "#FF97FF",
           "#FECB52"
          ],
          "font": {
           "color": "#2a3f5f"
          },
          "geo": {
           "bgcolor": "white",
           "lakecolor": "white",
           "landcolor": "#E5ECF6",
           "showlakes": true,
           "showland": true,
           "subunitcolor": "white"
          },
          "hoverlabel": {
           "align": "left"
          },
          "hovermode": "closest",
          "mapbox": {
           "style": "light"
          },
          "paper_bgcolor": "white",
          "plot_bgcolor": "#E5ECF6",
          "polar": {
           "angularaxis": {
            "gridcolor": "white",
            "linecolor": "white",
            "ticks": ""
           },
           "bgcolor": "#E5ECF6",
           "radialaxis": {
            "gridcolor": "white",
            "linecolor": "white",
            "ticks": ""
           }
          },
          "scene": {
           "xaxis": {
            "backgroundcolor": "#E5ECF6",
            "gridcolor": "white",
            "gridwidth": 2,
            "linecolor": "white",
            "showbackground": true,
            "ticks": "",
            "zerolinecolor": "white"
           },
           "yaxis": {
            "backgroundcolor": "#E5ECF6",
            "gridcolor": "white",
            "gridwidth": 2,
            "linecolor": "white",
            "showbackground": true,
            "ticks": "",
            "zerolinecolor": "white"
           },
           "zaxis": {
            "backgroundcolor": "#E5ECF6",
            "gridcolor": "white",
            "gridwidth": 2,
            "linecolor": "white",
            "showbackground": true,
            "ticks": "",
            "zerolinecolor": "white"
           }
          },
          "shapedefaults": {
           "line": {
            "color": "#2a3f5f"
           }
          },
          "ternary": {
           "aaxis": {
            "gridcolor": "white",
            "linecolor": "white",
            "ticks": ""
           },
           "baxis": {
            "gridcolor": "white",
            "linecolor": "white",
            "ticks": ""
           },
           "bgcolor": "#E5ECF6",
           "caxis": {
            "gridcolor": "white",
            "linecolor": "white",
            "ticks": ""
           }
          },
          "title": {
           "x": 0.05
          },
          "xaxis": {
           "automargin": true,
           "gridcolor": "white",
           "linecolor": "white",
           "ticks": "",
           "title": {
            "standoff": 15
           },
           "zerolinecolor": "white",
           "zerolinewidth": 2
          },
          "yaxis": {
           "automargin": true,
           "gridcolor": "white",
           "linecolor": "white",
           "ticks": "",
           "title": {
            "standoff": 15
           },
           "zerolinecolor": "white",
           "zerolinewidth": 2
          }
         }
        },
        "title": {
         "text": "Leading Party on Seats."
        }
       }
      }
     },
     "metadata": {},
     "output_type": "display_data"
    }
   ],
   "source": [
    "res_p = res_df['Leading Party'].value_counts().head(20)\n",
    "fig = px.pie(res_p, names=res_p.index, values=res_p.values, title='Leading Party on Seats.')\n",
    "fig.show()"
   ]
  },
  {
   "cell_type": "code",
   "execution_count": 7,
   "metadata": {},
   "outputs": [
    {
     "data": {
      "application/vnd.plotly.v1+json": {
       "config": {
        "plotlyServerURL": "https://plot.ly"
       },
       "data": [
        {
         "domain": {
          "x": [
           0,
           1
          ],
          "y": [
           0,
           1
          ]
         },
         "hovertemplate": "Trailing Party=%{label}<br>value=%{value}<extra></extra>",
         "labels": [
          "Indian National Congress",
          "Bharatiya Janata Party",
          "All India Anna Dravida Munnetra Kazhagam",
          "Samajwadi Party",
          "Biju Janata Dal",
          "Yuvajana Sramika Rythu Congress Party",
          "Rashtriya Janata Dal",
          "Communist Party of India (Marxist)",
          "All India Trinamool Congress",
          "Aam Aadmi Party",
          "Shiv Sena (Uddhav Balasaheb Thackrey)",
          "Shiv Sena",
          "Independent",
          "Communist Party of India",
          "Janata Dal (United)",
          "Nationalist Congress Party – Sharadchandra Pawar",
          "Vikassheel Insaan Party",
          "Nationalist Congress Party",
          "Desiya Murpokku Dravida Kazhagam",
          "Communist Party of India (Marxist-Leninist) (Liberation)"
         ],
         "legendgroup": "",
         "name": "",
         "showlegend": true,
         "type": "pie",
         "values": [
          167,
          153,
          24,
          24,
          21,
          21,
          18,
          17,
          13,
          13,
          10,
          8,
          5,
          4,
          4,
          3,
          3,
          3,
          3,
          2
         ]
        }
       ],
       "layout": {
        "legend": {
         "tracegroupgap": 0
        },
        "template": {
         "data": {
          "bar": [
           {
            "error_x": {
             "color": "#2a3f5f"
            },
            "error_y": {
             "color": "#2a3f5f"
            },
            "marker": {
             "line": {
              "color": "#E5ECF6",
              "width": 0.5
             },
             "pattern": {
              "fillmode": "overlay",
              "size": 10,
              "solidity": 0.2
             }
            },
            "type": "bar"
           }
          ],
          "barpolar": [
           {
            "marker": {
             "line": {
              "color": "#E5ECF6",
              "width": 0.5
             },
             "pattern": {
              "fillmode": "overlay",
              "size": 10,
              "solidity": 0.2
             }
            },
            "type": "barpolar"
           }
          ],
          "carpet": [
           {
            "aaxis": {
             "endlinecolor": "#2a3f5f",
             "gridcolor": "white",
             "linecolor": "white",
             "minorgridcolor": "white",
             "startlinecolor": "#2a3f5f"
            },
            "baxis": {
             "endlinecolor": "#2a3f5f",
             "gridcolor": "white",
             "linecolor": "white",
             "minorgridcolor": "white",
             "startlinecolor": "#2a3f5f"
            },
            "type": "carpet"
           }
          ],
          "choropleth": [
           {
            "colorbar": {
             "outlinewidth": 0,
             "ticks": ""
            },
            "type": "choropleth"
           }
          ],
          "contour": [
           {
            "colorbar": {
             "outlinewidth": 0,
             "ticks": ""
            },
            "colorscale": [
             [
              0,
              "#0d0887"
             ],
             [
              0.1111111111111111,
              "#46039f"
             ],
             [
              0.2222222222222222,
              "#7201a8"
             ],
             [
              0.3333333333333333,
              "#9c179e"
             ],
             [
              0.4444444444444444,
              "#bd3786"
             ],
             [
              0.5555555555555556,
              "#d8576b"
             ],
             [
              0.6666666666666666,
              "#ed7953"
             ],
             [
              0.7777777777777778,
              "#fb9f3a"
             ],
             [
              0.8888888888888888,
              "#fdca26"
             ],
             [
              1,
              "#f0f921"
             ]
            ],
            "type": "contour"
           }
          ],
          "contourcarpet": [
           {
            "colorbar": {
             "outlinewidth": 0,
             "ticks": ""
            },
            "type": "contourcarpet"
           }
          ],
          "heatmap": [
           {
            "colorbar": {
             "outlinewidth": 0,
             "ticks": ""
            },
            "colorscale": [
             [
              0,
              "#0d0887"
             ],
             [
              0.1111111111111111,
              "#46039f"
             ],
             [
              0.2222222222222222,
              "#7201a8"
             ],
             [
              0.3333333333333333,
              "#9c179e"
             ],
             [
              0.4444444444444444,
              "#bd3786"
             ],
             [
              0.5555555555555556,
              "#d8576b"
             ],
             [
              0.6666666666666666,
              "#ed7953"
             ],
             [
              0.7777777777777778,
              "#fb9f3a"
             ],
             [
              0.8888888888888888,
              "#fdca26"
             ],
             [
              1,
              "#f0f921"
             ]
            ],
            "type": "heatmap"
           }
          ],
          "heatmapgl": [
           {
            "colorbar": {
             "outlinewidth": 0,
             "ticks": ""
            },
            "colorscale": [
             [
              0,
              "#0d0887"
             ],
             [
              0.1111111111111111,
              "#46039f"
             ],
             [
              0.2222222222222222,
              "#7201a8"
             ],
             [
              0.3333333333333333,
              "#9c179e"
             ],
             [
              0.4444444444444444,
              "#bd3786"
             ],
             [
              0.5555555555555556,
              "#d8576b"
             ],
             [
              0.6666666666666666,
              "#ed7953"
             ],
             [
              0.7777777777777778,
              "#fb9f3a"
             ],
             [
              0.8888888888888888,
              "#fdca26"
             ],
             [
              1,
              "#f0f921"
             ]
            ],
            "type": "heatmapgl"
           }
          ],
          "histogram": [
           {
            "marker": {
             "pattern": {
              "fillmode": "overlay",
              "size": 10,
              "solidity": 0.2
             }
            },
            "type": "histogram"
           }
          ],
          "histogram2d": [
           {
            "colorbar": {
             "outlinewidth": 0,
             "ticks": ""
            },
            "colorscale": [
             [
              0,
              "#0d0887"
             ],
             [
              0.1111111111111111,
              "#46039f"
             ],
             [
              0.2222222222222222,
              "#7201a8"
             ],
             [
              0.3333333333333333,
              "#9c179e"
             ],
             [
              0.4444444444444444,
              "#bd3786"
             ],
             [
              0.5555555555555556,
              "#d8576b"
             ],
             [
              0.6666666666666666,
              "#ed7953"
             ],
             [
              0.7777777777777778,
              "#fb9f3a"
             ],
             [
              0.8888888888888888,
              "#fdca26"
             ],
             [
              1,
              "#f0f921"
             ]
            ],
            "type": "histogram2d"
           }
          ],
          "histogram2dcontour": [
           {
            "colorbar": {
             "outlinewidth": 0,
             "ticks": ""
            },
            "colorscale": [
             [
              0,
              "#0d0887"
             ],
             [
              0.1111111111111111,
              "#46039f"
             ],
             [
              0.2222222222222222,
              "#7201a8"
             ],
             [
              0.3333333333333333,
              "#9c179e"
             ],
             [
              0.4444444444444444,
              "#bd3786"
             ],
             [
              0.5555555555555556,
              "#d8576b"
             ],
             [
              0.6666666666666666,
              "#ed7953"
             ],
             [
              0.7777777777777778,
              "#fb9f3a"
             ],
             [
              0.8888888888888888,
              "#fdca26"
             ],
             [
              1,
              "#f0f921"
             ]
            ],
            "type": "histogram2dcontour"
           }
          ],
          "mesh3d": [
           {
            "colorbar": {
             "outlinewidth": 0,
             "ticks": ""
            },
            "type": "mesh3d"
           }
          ],
          "parcoords": [
           {
            "line": {
             "colorbar": {
              "outlinewidth": 0,
              "ticks": ""
             }
            },
            "type": "parcoords"
           }
          ],
          "pie": [
           {
            "automargin": true,
            "type": "pie"
           }
          ],
          "scatter": [
           {
            "fillpattern": {
             "fillmode": "overlay",
             "size": 10,
             "solidity": 0.2
            },
            "type": "scatter"
           }
          ],
          "scatter3d": [
           {
            "line": {
             "colorbar": {
              "outlinewidth": 0,
              "ticks": ""
             }
            },
            "marker": {
             "colorbar": {
              "outlinewidth": 0,
              "ticks": ""
             }
            },
            "type": "scatter3d"
           }
          ],
          "scattercarpet": [
           {
            "marker": {
             "colorbar": {
              "outlinewidth": 0,
              "ticks": ""
             }
            },
            "type": "scattercarpet"
           }
          ],
          "scattergeo": [
           {
            "marker": {
             "colorbar": {
              "outlinewidth": 0,
              "ticks": ""
             }
            },
            "type": "scattergeo"
           }
          ],
          "scattergl": [
           {
            "marker": {
             "colorbar": {
              "outlinewidth": 0,
              "ticks": ""
             }
            },
            "type": "scattergl"
           }
          ],
          "scattermapbox": [
           {
            "marker": {
             "colorbar": {
              "outlinewidth": 0,
              "ticks": ""
             }
            },
            "type": "scattermapbox"
           }
          ],
          "scatterpolar": [
           {
            "marker": {
             "colorbar": {
              "outlinewidth": 0,
              "ticks": ""
             }
            },
            "type": "scatterpolar"
           }
          ],
          "scatterpolargl": [
           {
            "marker": {
             "colorbar": {
              "outlinewidth": 0,
              "ticks": ""
             }
            },
            "type": "scatterpolargl"
           }
          ],
          "scatterternary": [
           {
            "marker": {
             "colorbar": {
              "outlinewidth": 0,
              "ticks": ""
             }
            },
            "type": "scatterternary"
           }
          ],
          "surface": [
           {
            "colorbar": {
             "outlinewidth": 0,
             "ticks": ""
            },
            "colorscale": [
             [
              0,
              "#0d0887"
             ],
             [
              0.1111111111111111,
              "#46039f"
             ],
             [
              0.2222222222222222,
              "#7201a8"
             ],
             [
              0.3333333333333333,
              "#9c179e"
             ],
             [
              0.4444444444444444,
              "#bd3786"
             ],
             [
              0.5555555555555556,
              "#d8576b"
             ],
             [
              0.6666666666666666,
              "#ed7953"
             ],
             [
              0.7777777777777778,
              "#fb9f3a"
             ],
             [
              0.8888888888888888,
              "#fdca26"
             ],
             [
              1,
              "#f0f921"
             ]
            ],
            "type": "surface"
           }
          ],
          "table": [
           {
            "cells": {
             "fill": {
              "color": "#EBF0F8"
             },
             "line": {
              "color": "white"
             }
            },
            "header": {
             "fill": {
              "color": "#C8D4E3"
             },
             "line": {
              "color": "white"
             }
            },
            "type": "table"
           }
          ]
         },
         "layout": {
          "annotationdefaults": {
           "arrowcolor": "#2a3f5f",
           "arrowhead": 0,
           "arrowwidth": 1
          },
          "autotypenumbers": "strict",
          "coloraxis": {
           "colorbar": {
            "outlinewidth": 0,
            "ticks": ""
           }
          },
          "colorscale": {
           "diverging": [
            [
             0,
             "#8e0152"
            ],
            [
             0.1,
             "#c51b7d"
            ],
            [
             0.2,
             "#de77ae"
            ],
            [
             0.3,
             "#f1b6da"
            ],
            [
             0.4,
             "#fde0ef"
            ],
            [
             0.5,
             "#f7f7f7"
            ],
            [
             0.6,
             "#e6f5d0"
            ],
            [
             0.7,
             "#b8e186"
            ],
            [
             0.8,
             "#7fbc41"
            ],
            [
             0.9,
             "#4d9221"
            ],
            [
             1,
             "#276419"
            ]
           ],
           "sequential": [
            [
             0,
             "#0d0887"
            ],
            [
             0.1111111111111111,
             "#46039f"
            ],
            [
             0.2222222222222222,
             "#7201a8"
            ],
            [
             0.3333333333333333,
             "#9c179e"
            ],
            [
             0.4444444444444444,
             "#bd3786"
            ],
            [
             0.5555555555555556,
             "#d8576b"
            ],
            [
             0.6666666666666666,
             "#ed7953"
            ],
            [
             0.7777777777777778,
             "#fb9f3a"
            ],
            [
             0.8888888888888888,
             "#fdca26"
            ],
            [
             1,
             "#f0f921"
            ]
           ],
           "sequentialminus": [
            [
             0,
             "#0d0887"
            ],
            [
             0.1111111111111111,
             "#46039f"
            ],
            [
             0.2222222222222222,
             "#7201a8"
            ],
            [
             0.3333333333333333,
             "#9c179e"
            ],
            [
             0.4444444444444444,
             "#bd3786"
            ],
            [
             0.5555555555555556,
             "#d8576b"
            ],
            [
             0.6666666666666666,
             "#ed7953"
            ],
            [
             0.7777777777777778,
             "#fb9f3a"
            ],
            [
             0.8888888888888888,
             "#fdca26"
            ],
            [
             1,
             "#f0f921"
            ]
           ]
          },
          "colorway": [
           "#636efa",
           "#EF553B",
           "#00cc96",
           "#ab63fa",
           "#FFA15A",
           "#19d3f3",
           "#FF6692",
           "#B6E880",
           "#FF97FF",
           "#FECB52"
          ],
          "font": {
           "color": "#2a3f5f"
          },
          "geo": {
           "bgcolor": "white",
           "lakecolor": "white",
           "landcolor": "#E5ECF6",
           "showlakes": true,
           "showland": true,
           "subunitcolor": "white"
          },
          "hoverlabel": {
           "align": "left"
          },
          "hovermode": "closest",
          "mapbox": {
           "style": "light"
          },
          "paper_bgcolor": "white",
          "plot_bgcolor": "#E5ECF6",
          "polar": {
           "angularaxis": {
            "gridcolor": "white",
            "linecolor": "white",
            "ticks": ""
           },
           "bgcolor": "#E5ECF6",
           "radialaxis": {
            "gridcolor": "white",
            "linecolor": "white",
            "ticks": ""
           }
          },
          "scene": {
           "xaxis": {
            "backgroundcolor": "#E5ECF6",
            "gridcolor": "white",
            "gridwidth": 2,
            "linecolor": "white",
            "showbackground": true,
            "ticks": "",
            "zerolinecolor": "white"
           },
           "yaxis": {
            "backgroundcolor": "#E5ECF6",
            "gridcolor": "white",
            "gridwidth": 2,
            "linecolor": "white",
            "showbackground": true,
            "ticks": "",
            "zerolinecolor": "white"
           },
           "zaxis": {
            "backgroundcolor": "#E5ECF6",
            "gridcolor": "white",
            "gridwidth": 2,
            "linecolor": "white",
            "showbackground": true,
            "ticks": "",
            "zerolinecolor": "white"
           }
          },
          "shapedefaults": {
           "line": {
            "color": "#2a3f5f"
           }
          },
          "ternary": {
           "aaxis": {
            "gridcolor": "white",
            "linecolor": "white",
            "ticks": ""
           },
           "baxis": {
            "gridcolor": "white",
            "linecolor": "white",
            "ticks": ""
           },
           "bgcolor": "#E5ECF6",
           "caxis": {
            "gridcolor": "white",
            "linecolor": "white",
            "ticks": ""
           }
          },
          "title": {
           "x": 0.05
          },
          "xaxis": {
           "automargin": true,
           "gridcolor": "white",
           "linecolor": "white",
           "ticks": "",
           "title": {
            "standoff": 15
           },
           "zerolinecolor": "white",
           "zerolinewidth": 2
          },
          "yaxis": {
           "automargin": true,
           "gridcolor": "white",
           "linecolor": "white",
           "ticks": "",
           "title": {
            "standoff": 15
           },
           "zerolinecolor": "white",
           "zerolinewidth": 2
          }
         }
        },
        "title": {
         "text": "Trailing Party of Seats."
        }
       }
      }
     },
     "metadata": {},
     "output_type": "display_data"
    }
   ],
   "source": [
    "res_p = res_df['Trailing Party'].value_counts().head(20)\n",
    "fig = px.pie(res_p, names=res_p.index, values=res_p.values, title='Trailing Party of Seats.')\n",
    "fig.show()"
   ]
  },
  {
   "cell_type": "code",
   "execution_count": 8,
   "metadata": {},
   "outputs": [
    {
     "data": {
      "text/html": [
       "<div>\n",
       "<style scoped>\n",
       "    .dataframe tbody tr th:only-of-type {\n",
       "        vertical-align: middle;\n",
       "    }\n",
       "\n",
       "    .dataframe tbody tr th {\n",
       "        vertical-align: top;\n",
       "    }\n",
       "\n",
       "    .dataframe thead th {\n",
       "        text-align: right;\n",
       "    }\n",
       "</style>\n",
       "<table border=\"1\" class=\"dataframe\">\n",
       "  <thead>\n",
       "    <tr style=\"text-align: right;\">\n",
       "      <th></th>\n",
       "      <th>Constituency</th>\n",
       "      <th>Const. No.</th>\n",
       "      <th>Leading Candidate</th>\n",
       "      <th>Leading Party</th>\n",
       "      <th>Trailing Candidate</th>\n",
       "      <th>Trailing Party</th>\n",
       "      <th>Margin</th>\n",
       "      <th>Status</th>\n",
       "    </tr>\n",
       "  </thead>\n",
       "  <tbody>\n",
       "    <tr>\n",
       "      <th>201</th>\n",
       "      <td>Gurdaspur</td>\n",
       "      <td>1</td>\n",
       "      <td>SUKHJINDER SINGH RANDHAWA</td>\n",
       "      <td>Indian National Congress</td>\n",
       "      <td>DINESH SINGH BABBU</td>\n",
       "      <td>Bharatiya Janata Party</td>\n",
       "      <td>82861</td>\n",
       "      <td>Result Declared</td>\n",
       "    </tr>\n",
       "    <tr>\n",
       "      <th>223</th>\n",
       "      <td>Inner Manipur</td>\n",
       "      <td>1</td>\n",
       "      <td>ANGOMCHA BIMOL AKOIJAM</td>\n",
       "      <td>Indian National Congress</td>\n",
       "      <td>THOUNAOJAM BASANTA KUMAR SINGH</td>\n",
       "      <td>Bharatiya Janata Party</td>\n",
       "      <td>109801</td>\n",
       "      <td>Result Declared</td>\n",
       "    </tr>\n",
       "    <tr>\n",
       "      <th>30</th>\n",
       "      <td>Andaman &amp; Nicobar Islands</td>\n",
       "      <td>1</td>\n",
       "      <td>BISHNU PADA RAY</td>\n",
       "      <td>Bharatiya Janata Party</td>\n",
       "      <td>KULDEEP RAI SHARMA</td>\n",
       "      <td>Indian National Congress</td>\n",
       "      <td>24396</td>\n",
       "      <td>Result Declared</td>\n",
       "    </tr>\n",
       "    <tr>\n",
       "      <th>379</th>\n",
       "      <td>Nandurbar</td>\n",
       "      <td>1</td>\n",
       "      <td>ADV GOWAAL KAGADA PADAVI</td>\n",
       "      <td>Indian National Congress</td>\n",
       "      <td>DR HEENA VIJAYKUMAR GAVIT</td>\n",
       "      <td>Bharatiya Janata Party</td>\n",
       "      <td>159120</td>\n",
       "      <td>Result Declared</td>\n",
       "    </tr>\n",
       "    <tr>\n",
       "      <th>32</th>\n",
       "      <td>Araku (ST)</td>\n",
       "      <td>1</td>\n",
       "      <td>GUMMA THANUJA RANI</td>\n",
       "      <td>Yuvajana Sramika Rythu Congress Party</td>\n",
       "      <td>KOTHAPALLI GEETHA</td>\n",
       "      <td>Bharatiya Janata Party</td>\n",
       "      <td>50580</td>\n",
       "      <td>Result Declared</td>\n",
       "    </tr>\n",
       "    <tr>\n",
       "      <th>297</th>\n",
       "      <td>Kokrajhar</td>\n",
       "      <td>1</td>\n",
       "      <td>JOYANTA BASUMATARY</td>\n",
       "      <td>United People’s Party, Liberal</td>\n",
       "      <td>KAMPA BORGOYARI</td>\n",
       "      <td>Bodoland Peoples Front</td>\n",
       "      <td>51583</td>\n",
       "      <td>Result Declared</td>\n",
       "    </tr>\n",
       "    <tr>\n",
       "      <th>473</th>\n",
       "      <td>Shillong</td>\n",
       "      <td>1</td>\n",
       "      <td>DR. RICKY ANDREW J. SYNGKON</td>\n",
       "      <td>Voice of the People Party</td>\n",
       "      <td>VINCENT H. PALA</td>\n",
       "      <td>Indian National Congress</td>\n",
       "      <td>371910</td>\n",
       "      <td>Result Declared</td>\n",
       "    </tr>\n",
       "    <tr>\n",
       "      <th>37</th>\n",
       "      <td>Arunachal West</td>\n",
       "      <td>1</td>\n",
       "      <td>KIREN RIJIJU</td>\n",
       "      <td>Bharatiya Janata Party</td>\n",
       "      <td>NABAM TUKI</td>\n",
       "      <td>Indian National Congress</td>\n",
       "      <td>100738</td>\n",
       "      <td>Result Declared</td>\n",
       "    </tr>\n",
       "    <tr>\n",
       "      <th>507</th>\n",
       "      <td>Tehri Garhwal</td>\n",
       "      <td>1</td>\n",
       "      <td>MALA RAJYA LAKSHMI SHAH</td>\n",
       "      <td>Bharatiya Janata Party</td>\n",
       "      <td>JOT SINGH GUNSOLA</td>\n",
       "      <td>Indian National Congress</td>\n",
       "      <td>272493</td>\n",
       "      <td>Result Declared</td>\n",
       "    </tr>\n",
       "    <tr>\n",
       "      <th>310</th>\n",
       "      <td>Ladakh</td>\n",
       "      <td>1</td>\n",
       "      <td>MOHMAD HANEEFA</td>\n",
       "      <td>Independent</td>\n",
       "      <td>TSERING NAMGYAL</td>\n",
       "      <td>Indian National Congress</td>\n",
       "      <td>27862</td>\n",
       "      <td>Result Declared</td>\n",
       "    </tr>\n",
       "  </tbody>\n",
       "</table>\n",
       "</div>"
      ],
      "text/plain": [
       "                  Constituency  Const. No.            Leading Candidate  \\\n",
       "201                  Gurdaspur           1    SUKHJINDER SINGH RANDHAWA   \n",
       "223              Inner Manipur           1       ANGOMCHA BIMOL AKOIJAM   \n",
       "30   Andaman & Nicobar Islands           1              BISHNU PADA RAY   \n",
       "379                  Nandurbar           1     ADV GOWAAL KAGADA PADAVI   \n",
       "32                  Araku (ST)           1           GUMMA THANUJA RANI   \n",
       "297                  Kokrajhar           1           JOYANTA BASUMATARY   \n",
       "473                   Shillong           1  DR. RICKY ANDREW J. SYNGKON   \n",
       "37              Arunachal West           1                 KIREN RIJIJU   \n",
       "507              Tehri Garhwal           1      MALA RAJYA LAKSHMI SHAH   \n",
       "310                     Ladakh           1               MOHMAD HANEEFA   \n",
       "\n",
       "                             Leading Party              Trailing Candidate  \\\n",
       "201               Indian National Congress              DINESH SINGH BABBU   \n",
       "223               Indian National Congress  THOUNAOJAM BASANTA KUMAR SINGH   \n",
       "30                  Bharatiya Janata Party              KULDEEP RAI SHARMA   \n",
       "379               Indian National Congress       DR HEENA VIJAYKUMAR GAVIT   \n",
       "32   Yuvajana Sramika Rythu Congress Party               KOTHAPALLI GEETHA   \n",
       "297         United People’s Party, Liberal                 KAMPA BORGOYARI   \n",
       "473              Voice of the People Party                 VINCENT H. PALA   \n",
       "37                  Bharatiya Janata Party                      NABAM TUKI   \n",
       "507                 Bharatiya Janata Party               JOT SINGH GUNSOLA   \n",
       "310                            Independent                 TSERING NAMGYAL   \n",
       "\n",
       "               Trailing Party  Margin           Status  \n",
       "201    Bharatiya Janata Party   82861  Result Declared  \n",
       "223    Bharatiya Janata Party  109801  Result Declared  \n",
       "30   Indian National Congress   24396  Result Declared  \n",
       "379    Bharatiya Janata Party  159120  Result Declared  \n",
       "32     Bharatiya Janata Party   50580  Result Declared  \n",
       "297    Bodoland Peoples Front   51583  Result Declared  \n",
       "473  Indian National Congress  371910  Result Declared  \n",
       "37   Indian National Congress  100738  Result Declared  \n",
       "507  Indian National Congress  272493  Result Declared  \n",
       "310  Indian National Congress   27862  Result Declared  "
      ]
     },
     "execution_count": 8,
     "metadata": {},
     "output_type": "execute_result"
    }
   ],
   "source": [
    "res_df.sort_values('Const. No.').head(10)"
   ]
  },
  {
   "cell_type": "code",
   "execution_count": 9,
   "metadata": {},
   "outputs": [],
   "source": [
    "res_df['Margin'] = res_df['Margin'].apply(lambda x: x if str(x).isdigit() else 0)\n",
    "res_df['Margin'] = res_df['Margin'].astype('int')"
   ]
  },
  {
   "cell_type": "code",
   "execution_count": 10,
   "metadata": {},
   "outputs": [
    {
     "name": "stdout",
     "output_type": "stream",
     "text": [
      "<class 'pandas.core.frame.DataFrame'>\n",
      "RangeIndex: 543 entries, 0 to 542\n",
      "Data columns (total 8 columns):\n",
      " #   Column              Non-Null Count  Dtype \n",
      "---  ------              --------------  ----- \n",
      " 0   Constituency        543 non-null    object\n",
      " 1   Const. No.          543 non-null    int64 \n",
      " 2   Leading Candidate   543 non-null    object\n",
      " 3   Leading Party       543 non-null    object\n",
      " 4   Trailing Candidate  542 non-null    object\n",
      " 5   Trailing Party      542 non-null    object\n",
      " 6   Margin              543 non-null    int32 \n",
      " 7   Status              543 non-null    object\n",
      "dtypes: int32(1), int64(1), object(6)\n",
      "memory usage: 31.9+ KB\n"
     ]
    }
   ],
   "source": [
    "res_df.info()"
   ]
  },
  {
   "cell_type": "code",
   "execution_count": 21,
   "metadata": {},
   "outputs": [
    {
     "data": {
      "text/html": [
       "<div>\n",
       "<style scoped>\n",
       "    .dataframe tbody tr th:only-of-type {\n",
       "        vertical-align: middle;\n",
       "    }\n",
       "\n",
       "    .dataframe tbody tr th {\n",
       "        vertical-align: top;\n",
       "    }\n",
       "\n",
       "    .dataframe thead th {\n",
       "        text-align: right;\n",
       "    }\n",
       "</style>\n",
       "<table border=\"1\" class=\"dataframe\">\n",
       "  <thead>\n",
       "    <tr style=\"text-align: right;\">\n",
       "      <th></th>\n",
       "      <th>Constituency</th>\n",
       "      <th>Const. No.</th>\n",
       "      <th>Leading Candidate</th>\n",
       "      <th>Leading Party</th>\n",
       "      <th>Trailing Candidate</th>\n",
       "      <th>Trailing Party</th>\n",
       "      <th>Margin</th>\n",
       "      <th>Status</th>\n",
       "    </tr>\n",
       "  </thead>\n",
       "  <tbody>\n",
       "    <tr>\n",
       "      <th>39</th>\n",
       "      <td>ASKA</td>\n",
       "      <td>19</td>\n",
       "      <td>ANITA SUBHADARSHINI</td>\n",
       "      <td>Bharatiya Janata Party</td>\n",
       "      <td>RANJITA SAHU</td>\n",
       "      <td>Biju Janata Dal</td>\n",
       "      <td>99974</td>\n",
       "      <td>Result Declared</td>\n",
       "    </tr>\n",
       "    <tr>\n",
       "      <th>246</th>\n",
       "      <td>JAUNPUR</td>\n",
       "      <td>73</td>\n",
       "      <td>BABU SINGH KUSHWAHA</td>\n",
       "      <td>Samajwadi Party</td>\n",
       "      <td>KRIPASHANKAR SINGH</td>\n",
       "      <td>Bharatiya Janata Party</td>\n",
       "      <td>99335</td>\n",
       "      <td>Result Declared</td>\n",
       "    </tr>\n",
       "    <tr>\n",
       "      <th>92</th>\n",
       "      <td>BELLARY</td>\n",
       "      <td>9</td>\n",
       "      <td>E. TUKARAM</td>\n",
       "      <td>Indian National Congress</td>\n",
       "      <td>B. SREERAMULU</td>\n",
       "      <td>Bharatiya Janata Party</td>\n",
       "      <td>98992</td>\n",
       "      <td>Result Declared</td>\n",
       "    </tr>\n",
       "    <tr>\n",
       "      <th>258</th>\n",
       "      <td>KARAULI-DHOLPUR</td>\n",
       "      <td>10</td>\n",
       "      <td>BHAJAN LAL JATAV</td>\n",
       "      <td>Indian National Congress</td>\n",
       "      <td>INDU DEVI</td>\n",
       "      <td>Bharatiya Janata Party</td>\n",
       "      <td>98945</td>\n",
       "      <td>Result Declared</td>\n",
       "    </tr>\n",
       "    <tr>\n",
       "      <th>531</th>\n",
       "      <td>VALMIKI NAGAR</td>\n",
       "      <td>1</td>\n",
       "      <td>SUNIL KUMAR</td>\n",
       "      <td>Janata Dal (United)</td>\n",
       "      <td>DEEPAK YADAV</td>\n",
       "      <td>Rashtriya Janata Dal</td>\n",
       "      <td>98675</td>\n",
       "      <td>Result Declared</td>\n",
       "    </tr>\n",
       "    <tr>\n",
       "      <th>154</th>\n",
       "      <td>DHARWAD</td>\n",
       "      <td>11</td>\n",
       "      <td>PRALHAD JOSHI</td>\n",
       "      <td>Bharatiya Janata Party</td>\n",
       "      <td>VINOD ASOOTI</td>\n",
       "      <td>Indian National Congress</td>\n",
       "      <td>97324</td>\n",
       "      <td>Result Declared</td>\n",
       "    </tr>\n",
       "    <tr>\n",
       "      <th>288</th>\n",
       "      <td>KEONJHAR</td>\n",
       "      <td>4</td>\n",
       "      <td>ANANTA NAYAK</td>\n",
       "      <td>Bharatiya Janata Party</td>\n",
       "      <td>DHANURJAYA SIDU</td>\n",
       "      <td>Biju Janata Dal</td>\n",
       "      <td>97042</td>\n",
       "      <td>Result Declared</td>\n",
       "    </tr>\n",
       "    <tr>\n",
       "      <th>344</th>\n",
       "      <td>MAVAL</td>\n",
       "      <td>33</td>\n",
       "      <td>SHRIRANG APPA CHANDU BARNE</td>\n",
       "      <td>Shiv Sena</td>\n",
       "      <td>SANJOG BHIKU WAGHERE PATIL</td>\n",
       "      <td>Shiv Sena (Uddhav Balasaheb Thackrey)</td>\n",
       "      <td>96615</td>\n",
       "      <td>Result Declared</td>\n",
       "    </tr>\n",
       "    <tr>\n",
       "      <th>541</th>\n",
       "      <td>YAVATMAL- WASHIM</td>\n",
       "      <td>14</td>\n",
       "      <td>SANJAY UTTAMRAO DESHMUKH</td>\n",
       "      <td>Shiv Sena (Uddhav Balasaheb Thackrey)</td>\n",
       "      <td>RAJSHRITAI HEMANT PATIL (MAHALLE)</td>\n",
       "      <td>Shiv Sena</td>\n",
       "      <td>94473</td>\n",
       "      <td>Result Declared</td>\n",
       "    </tr>\n",
       "    <tr>\n",
       "      <th>372</th>\n",
       "      <td>NAGARKURNOOL</td>\n",
       "      <td>12</td>\n",
       "      <td>DR.MALLU RAVI</td>\n",
       "      <td>Indian National Congress</td>\n",
       "      <td>BHARATH PRASAD POTHUGANTI</td>\n",
       "      <td>Bharatiya Janata Party</td>\n",
       "      <td>94414</td>\n",
       "      <td>Result Declared</td>\n",
       "    </tr>\n",
       "    <tr>\n",
       "      <th>167</th>\n",
       "      <td>EAST DELHI</td>\n",
       "      <td>3</td>\n",
       "      <td>HARSH MALHOTRA</td>\n",
       "      <td>Bharatiya Janata Party</td>\n",
       "      <td>KULDEEP KUMAR (MONU)</td>\n",
       "      <td>Aam Aadmi Party</td>\n",
       "      <td>93663</td>\n",
       "      <td>Result Declared</td>\n",
       "    </tr>\n",
       "    <tr>\n",
       "      <th>483</th>\n",
       "      <td>SIWAN</td>\n",
       "      <td>18</td>\n",
       "      <td>VIJAYLAKSHMI DEVI</td>\n",
       "      <td>Janata Dal (United)</td>\n",
       "      <td>HENA SHAHAB</td>\n",
       "      <td>Independent</td>\n",
       "      <td>92857</td>\n",
       "      <td>Result Declared</td>\n",
       "    </tr>\n",
       "    <tr>\n",
       "      <th>301</th>\n",
       "      <td>KOLKATA UTTAR</td>\n",
       "      <td>24</td>\n",
       "      <td>BANDYOPADHYAY SUDIP</td>\n",
       "      <td>All India Trinamool Congress</td>\n",
       "      <td>TAPAS ROY</td>\n",
       "      <td>Bharatiya Janata Party</td>\n",
       "      <td>92560</td>\n",
       "      <td>Result Declared</td>\n",
       "    </tr>\n",
       "    <tr>\n",
       "      <th>466</th>\n",
       "      <td>SANT KABIR NAGAR</td>\n",
       "      <td>62</td>\n",
       "      <td>LAXMIKANT PAPPU NISHAD</td>\n",
       "      <td>Samajwadi Party</td>\n",
       "      <td>PRAVIN KUMAR NISHAD</td>\n",
       "      <td>Bharatiya Janata Party</td>\n",
       "      <td>92170</td>\n",
       "      <td>Result Declared</td>\n",
       "    </tr>\n",
       "    <tr>\n",
       "      <th>95</th>\n",
       "      <td>BHADRAK</td>\n",
       "      <td>7</td>\n",
       "      <td>AVIMANYU SETHI</td>\n",
       "      <td>Bharatiya Janata Party</td>\n",
       "      <td>MANJULATA MANDAL</td>\n",
       "      <td>Biju Janata Dal</td>\n",
       "      <td>91544</td>\n",
       "      <td>Result Declared</td>\n",
       "    </tr>\n",
       "    <tr>\n",
       "      <th>449</th>\n",
       "      <td>SHIMLA</td>\n",
       "      <td>4</td>\n",
       "      <td>Suresh Kumar Kashyap</td>\n",
       "      <td>Bharatiya Janata Party</td>\n",
       "      <td>Vinod Sultanpuri</td>\n",
       "      <td>Indian National Congress</td>\n",
       "      <td>91451</td>\n",
       "      <td>Result Declared</td>\n",
       "    </tr>\n",
       "    <tr>\n",
       "      <th>132</th>\n",
       "      <td>CHIKKODI</td>\n",
       "      <td>1</td>\n",
       "      <td>PRIYANKA SATISH JARKIHOLI</td>\n",
       "      <td>Indian National Congress</td>\n",
       "      <td>ANNASAHEB SHANKAR JOLLE</td>\n",
       "      <td>Bharatiya Janata Party</td>\n",
       "      <td>90834</td>\n",
       "      <td>Result Declared</td>\n",
       "    </tr>\n",
       "    <tr>\n",
       "      <th>6</th>\n",
       "      <td>ADILABAD</td>\n",
       "      <td>1</td>\n",
       "      <td>GODAM NAGESH</td>\n",
       "      <td>Bharatiya Janata Party</td>\n",
       "      <td>ATHRAM SUGUNA</td>\n",
       "      <td>Indian National Congress</td>\n",
       "      <td>90652</td>\n",
       "      <td>Result Declared</td>\n",
       "    </tr>\n",
       "    <tr>\n",
       "      <th>27</th>\n",
       "      <td>ANAND</td>\n",
       "      <td>16</td>\n",
       "      <td>MITESH PATEL (BAKABHAI)</td>\n",
       "      <td>Bharatiya Janata Party</td>\n",
       "      <td>AMIT CHAVDA</td>\n",
       "      <td>Indian National Congress</td>\n",
       "      <td>89939</td>\n",
       "      <td>Result Declared</td>\n",
       "    </tr>\n",
       "    <tr>\n",
       "      <th>482</th>\n",
       "      <td>SITAPUR</td>\n",
       "      <td>30</td>\n",
       "      <td>RAKESH RATHOR</td>\n",
       "      <td>Indian National Congress</td>\n",
       "      <td>RAJESH VERMA</td>\n",
       "      <td>Bharatiya Janata Party</td>\n",
       "      <td>89641</td>\n",
       "      <td>Result Declared</td>\n",
       "    </tr>\n",
       "  </tbody>\n",
       "</table>\n",
       "</div>"
      ],
      "text/plain": [
       "         Constituency  Const. No.           Leading Candidate  \\\n",
       "39               ASKA          19         ANITA SUBHADARSHINI   \n",
       "246           JAUNPUR          73         BABU SINGH KUSHWAHA   \n",
       "92            BELLARY           9                  E. TUKARAM   \n",
       "258   KARAULI-DHOLPUR          10            BHAJAN LAL JATAV   \n",
       "531     VALMIKI NAGAR           1                 SUNIL KUMAR   \n",
       "154           DHARWAD          11               PRALHAD JOSHI   \n",
       "288          KEONJHAR           4                ANANTA NAYAK   \n",
       "344             MAVAL          33  SHRIRANG APPA CHANDU BARNE   \n",
       "541  YAVATMAL- WASHIM          14    SANJAY UTTAMRAO DESHMUKH   \n",
       "372      NAGARKURNOOL          12               DR.MALLU RAVI   \n",
       "167        EAST DELHI           3              HARSH MALHOTRA   \n",
       "483             SIWAN          18           VIJAYLAKSHMI DEVI   \n",
       "301     KOLKATA UTTAR          24         BANDYOPADHYAY SUDIP   \n",
       "466  SANT KABIR NAGAR          62      LAXMIKANT PAPPU NISHAD   \n",
       "95            BHADRAK           7              AVIMANYU SETHI   \n",
       "449            SHIMLA           4        Suresh Kumar Kashyap   \n",
       "132          CHIKKODI           1   PRIYANKA SATISH JARKIHOLI   \n",
       "6            ADILABAD           1                GODAM NAGESH   \n",
       "27              ANAND          16     MITESH PATEL (BAKABHAI)   \n",
       "482           SITAPUR          30               RAKESH RATHOR   \n",
       "\n",
       "                             Leading Party                 Trailing Candidate  \\\n",
       "39                  Bharatiya Janata Party                       RANJITA SAHU   \n",
       "246                        Samajwadi Party                 KRIPASHANKAR SINGH   \n",
       "92                Indian National Congress                      B. SREERAMULU   \n",
       "258               Indian National Congress                          INDU DEVI   \n",
       "531                    Janata Dal (United)                       DEEPAK YADAV   \n",
       "154                 Bharatiya Janata Party                       VINOD ASOOTI   \n",
       "288                 Bharatiya Janata Party                    DHANURJAYA SIDU   \n",
       "344                              Shiv Sena         SANJOG BHIKU WAGHERE PATIL   \n",
       "541  Shiv Sena (Uddhav Balasaheb Thackrey)  RAJSHRITAI HEMANT PATIL (MAHALLE)   \n",
       "372               Indian National Congress          BHARATH PRASAD POTHUGANTI   \n",
       "167                 Bharatiya Janata Party               KULDEEP KUMAR (MONU)   \n",
       "483                    Janata Dal (United)                        HENA SHAHAB   \n",
       "301           All India Trinamool Congress                          TAPAS ROY   \n",
       "466                        Samajwadi Party                PRAVIN KUMAR NISHAD   \n",
       "95                  Bharatiya Janata Party                   MANJULATA MANDAL   \n",
       "449                 Bharatiya Janata Party                   Vinod Sultanpuri   \n",
       "132               Indian National Congress            ANNASAHEB SHANKAR JOLLE   \n",
       "6                   Bharatiya Janata Party                      ATHRAM SUGUNA   \n",
       "27                  Bharatiya Janata Party                        AMIT CHAVDA   \n",
       "482               Indian National Congress                       RAJESH VERMA   \n",
       "\n",
       "                            Trailing Party Margin           Status  \n",
       "39                         Biju Janata Dal  99974  Result Declared  \n",
       "246                 Bharatiya Janata Party  99335  Result Declared  \n",
       "92                  Bharatiya Janata Party  98992  Result Declared  \n",
       "258                 Bharatiya Janata Party  98945  Result Declared  \n",
       "531                   Rashtriya Janata Dal  98675  Result Declared  \n",
       "154               Indian National Congress  97324  Result Declared  \n",
       "288                        Biju Janata Dal  97042  Result Declared  \n",
       "344  Shiv Sena (Uddhav Balasaheb Thackrey)  96615  Result Declared  \n",
       "541                              Shiv Sena  94473  Result Declared  \n",
       "372                 Bharatiya Janata Party  94414  Result Declared  \n",
       "167                        Aam Aadmi Party  93663  Result Declared  \n",
       "483                            Independent  92857  Result Declared  \n",
       "301                 Bharatiya Janata Party  92560  Result Declared  \n",
       "466                 Bharatiya Janata Party  92170  Result Declared  \n",
       "95                         Biju Janata Dal  91544  Result Declared  \n",
       "449               Indian National Congress  91451  Result Declared  \n",
       "132                 Bharatiya Janata Party  90834  Result Declared  \n",
       "6                 Indian National Congress  90652  Result Declared  \n",
       "27                Indian National Congress  89939  Result Declared  \n",
       "482                 Bharatiya Janata Party  89641  Result Declared  "
      ]
     },
     "execution_count": 21,
     "metadata": {},
     "output_type": "execute_result"
    }
   ],
   "source": [
    "res_df.sort_values('Margin', ascending=False).head(20)"
   ]
  },
  {
   "cell_type": "markdown",
   "metadata": {},
   "source": [
    "## The end"
   ]
  }
 ],
 "metadata": {
  "kernelspec": {
   "display_name": "venv",
   "language": "python",
   "name": "python3"
  },
  "language_info": {
   "codemirror_mode": {
    "name": "ipython",
    "version": 3
   },
   "file_extension": ".py",
   "mimetype": "text/x-python",
   "name": "python",
   "nbconvert_exporter": "python",
   "pygments_lexer": "ipython3",
   "version": "3.10.0"
  }
 },
 "nbformat": 4,
 "nbformat_minor": 2
}
